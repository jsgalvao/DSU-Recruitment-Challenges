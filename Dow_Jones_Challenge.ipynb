{
 "cells": [
  {
   "cell_type": "markdown",
   "metadata": {
    "pycharm": {
     "name": "#%% md\n"
    }
   },
   "source": [
    "# Xpand IT DS Challenge"
   ]
  },
  {
   "cell_type": "markdown",
   "metadata": {
    "pycharm": {
     "name": "#%% md\n"
    }
   },
   "source": [
    "## Business Analysis\n",
    "\n",
    "-----\n",
    "The Dow Jones [Industrial] Index (DJIA) is a stock market index founded in February 16, 1885, as DJA, and renamed to DJIA in May 26, 1896. Nowadays, the index comprises 30 blue chip companies listed on the New York stock exchange and the Nasdaq. These companies operate on industries ranging from information technology or financial services to retailing or food industry, to name a few. The largest index weight is held by UnitedHealth Group, at 8.81%, followed closely by Microsoft and Goldman Sachs at 6.83% and 6.54%, respectively. It also includes other internationally recognised companies, such as Apple, McDonald's and Visa, for instance.\n",
    "\n",
    "Unlike other common indexes, the Dow Jones Index is price-weighted, as opposed to being weighted by market capitalisation. As such, stocks with higher share prices have a greater influence. The DJIA is calculated by dividing the sum of the prices of all component stocks, $\\sum p$, by the Dow Divisor, $d$. As of February 2024, the Dow Divisor was set at 0.15265312230608.\n",
    "\n",
    "The Dow Jones Index is reevaluated on a regular basis, replacing companies that no longer meet the eligibility criteria.\n",
    "\n",
    "-----\n"
   ]
  },
  {
   "cell_type": "markdown",
   "metadata": {
    "pycharm": {
     "name": "#%% md\n"
    }
   },
   "source": [
    "## Data Understanding\n",
    "During the data understanding phase, you should focus on understanding what each variable represents, compute statistics and visualizations. Some questions that may guide your work follow:\n",
    "* Feature engineering: should new features be created from the existing ones?\n",
    "* What will be your features and your label?\n",
    "* Is the dataset ready for the prediction task? (ex: missing values)\n",
    "* How will the data be split into train and test sets?\n",
    "\n",
    "-----"
   ]
  },
  {
   "cell_type": "markdown",
   "metadata": {},
   "source": [
    "Note that Python 3.11 was used in this notebook."
   ]
  },
  {
   "cell_type": "markdown",
   "metadata": {
    "collapsed": false,
    "jupyter": {
     "outputs_hidden": false
    },
    "pycharm": {
     "name": "#%% md\n"
    }
   },
   "source": [
    "#### Imports"
   ]
  },
  {
   "cell_type": "code",
   "execution_count": 1,
   "metadata": {},
   "outputs": [
    {
     "name": "stdout",
     "output_type": "stream",
     "text": [
      "Requirement already satisfied: pandas in c:\\users\\jgalv\\appdata\\local\\programs\\python\\python311\\lib\\site-packages (2.2.2)\n",
      "Requirement already satisfied: seaborn in c:\\users\\jgalv\\appdata\\local\\programs\\python\\python311\\lib\\site-packages (0.13.2)\n",
      "Requirement already satisfied: matplotlib in c:\\users\\jgalv\\appdata\\local\\programs\\python\\python311\\lib\\site-packages (3.9.2)\n",
      "Requirement already satisfied: numpy in c:\\users\\jgalv\\appdata\\local\\programs\\python\\python311\\lib\\site-packages (2.1.0)\n",
      "Requirement already satisfied: scikit-learn in c:\\users\\jgalv\\appdata\\local\\programs\\python\\python311\\lib\\site-packages (1.5.1)\n",
      "Requirement already satisfied: imblearn in c:\\users\\jgalv\\appdata\\local\\programs\\python\\python311\\lib\\site-packages (0.0)\n",
      "Requirement already satisfied: python-dateutil>=2.8.2 in c:\\users\\jgalv\\appdata\\local\\programs\\python\\python311\\lib\\site-packages (from pandas) (2.9.0.post0)\n",
      "Requirement already satisfied: pytz>=2020.1 in c:\\users\\jgalv\\appdata\\local\\programs\\python\\python311\\lib\\site-packages (from pandas) (2024.1)\n",
      "Requirement already satisfied: tzdata>=2022.7 in c:\\users\\jgalv\\appdata\\local\\programs\\python\\python311\\lib\\site-packages (from pandas) (2024.1)\n",
      "Requirement already satisfied: contourpy>=1.0.1 in c:\\users\\jgalv\\appdata\\local\\programs\\python\\python311\\lib\\site-packages (from matplotlib) (1.3.0)\n",
      "Requirement already satisfied: cycler>=0.10 in c:\\users\\jgalv\\appdata\\local\\programs\\python\\python311\\lib\\site-packages (from matplotlib) (0.12.1)\n",
      "Requirement already satisfied: fonttools>=4.22.0 in c:\\users\\jgalv\\appdata\\local\\programs\\python\\python311\\lib\\site-packages (from matplotlib) (4.53.1)\n",
      "Requirement already satisfied: kiwisolver>=1.3.1 in c:\\users\\jgalv\\appdata\\local\\programs\\python\\python311\\lib\\site-packages (from matplotlib) (1.4.7)\n",
      "Requirement already satisfied: packaging>=20.0 in c:\\users\\jgalv\\appdata\\local\\programs\\python\\python311\\lib\\site-packages (from matplotlib) (24.1)\n",
      "Requirement already satisfied: pillow>=8 in c:\\users\\jgalv\\appdata\\local\\programs\\python\\python311\\lib\\site-packages (from matplotlib) (10.4.0)\n",
      "Requirement already satisfied: pyparsing>=2.3.1 in c:\\users\\jgalv\\appdata\\local\\programs\\python\\python311\\lib\\site-packages (from matplotlib) (3.1.4)\n",
      "Requirement already satisfied: scipy>=1.6.0 in c:\\users\\jgalv\\appdata\\local\\programs\\python\\python311\\lib\\site-packages (from scikit-learn) (1.14.1)\n",
      "Requirement already satisfied: joblib>=1.2.0 in c:\\users\\jgalv\\appdata\\local\\programs\\python\\python311\\lib\\site-packages (from scikit-learn) (1.4.2)\n",
      "Requirement already satisfied: threadpoolctl>=3.1.0 in c:\\users\\jgalv\\appdata\\local\\programs\\python\\python311\\lib\\site-packages (from scikit-learn) (3.5.0)\n",
      "Requirement already satisfied: imbalanced-learn in c:\\users\\jgalv\\appdata\\local\\programs\\python\\python311\\lib\\site-packages (from imblearn) (0.12.3)\n",
      "Requirement already satisfied: six>=1.5 in c:\\users\\jgalv\\appdata\\local\\programs\\python\\python311\\lib\\site-packages (from python-dateutil>=2.8.2->pandas) (1.16.0)\n"
     ]
    }
   ],
   "source": [
    "!pip install pandas seaborn matplotlib numpy scikit-learn imblearn"
   ]
  },
  {
   "cell_type": "code",
   "execution_count": 2,
   "metadata": {
    "ExecuteTime": {
     "end_time": "2024-09-01T18:37:04.919594400Z",
     "start_time": "2024-09-01T18:37:03.643495400Z"
    },
    "pycharm": {
     "name": "#%%\n"
    }
   },
   "outputs": [],
   "source": [
    "import pandas as pd\n",
    "import seaborn as sns\n",
    "import matplotlib.pyplot as plt\n",
    "import numpy as np\n",
    "\n",
    "from sklearn.model_selection import KFold\n",
    "from sklearn.ensemble import RandomForestRegressor\n",
    "from sklearn.metrics import r2_score\n",
    "\n",
    "from sklearn.ensemble import RandomForestClassifier\n",
    "from sklearn.metrics import classification_report, accuracy_score\n",
    "\n",
    "from imblearn.over_sampling import SMOTE"
   ]
  },
  {
   "cell_type": "markdown",
   "metadata": {
    "collapsed": false,
    "jupyter": {
     "outputs_hidden": false
    },
    "pycharm": {
     "name": "#%% md\n"
    }
   },
   "source": [
    "#### Load data"
   ]
  },
  {
   "cell_type": "code",
   "execution_count": 3,
   "metadata": {
    "collapsed": false,
    "jupyter": {
     "outputs_hidden": false
    },
    "pycharm": {
     "name": "#%%\n"
    }
   },
   "outputs": [
    {
     "name": "stdout",
     "output_type": "stream",
     "text": [
      "This dataset was first used in:\n",
      "Brown, M. S., Pelosi, M. & Dirska, H. (2013). Dynamic-radius Species-conserving Genetic Algorithm for \n",
      "the Financial Forecasting of Dow Jones Index Stocks. Machine Learning and Data Mining in Pattern \n",
      "Recognition, 7988, 27-41.\n",
      "\n",
      "Number of Instances\n",
      "There are 750 data records.  360 are from the first quarter of the year (Jan to Mar)\n",
      "390 are from the second quarter of the year (Apr to Jun).\n",
      "\n",
      "Number of Attributes\n",
      "There are 16 attributes. \n",
      "\n",
      "For each Attribute\n",
      "\tquarter:  the yearly quarter (1=Jan-Mar; 2=Apr-Jun)\n",
      "\tstock: the stock symbol (see below)\n",
      "\tdate: the last business day of the work (this is typically a Friday)\n",
      "\topen: the price of the stock at the beginning of the week\n",
      "\thigh: the highest price of the stock during the week\n",
      "\tlow: the lowest price of the stock during the week\n",
      "\tclose: the price of the stock at the end of the week\n",
      "\tvolume: the number of shares of stock that traded hands in the week\n",
      "\tpercent_change_price: the percentage change in price throughout the week\n",
      "\tpercent_change_volume_over_last_week: the percentage change in the number of shares of stock that traded hands for this week compared to the previous week\n",
      "\tprevious_weeks_volume: the number of shares of stock that traded hands in the previous week\n",
      "\tnext_weeks_open: the opening price of the stock in the following week\n",
      "\tnext_weeks_close: the closing price of the stock in the following week\n",
      "\tpercent_change_next_weeks_price: the percentage change in price of the stock in the \n",
      "\tfollowing week days_to_next_dividend: the number of days until the next dividend\n",
      "\tpercent_return_next_dividend: the percentage of return on the next dividend\n",
      "\n",
      "\n",
      "List of stocks in the dataset:\n",
      "\t\t3M\t\t \tMMM\n",
      "\t\tAmerican Express \tAXP\n",
      "\t\tAlcoa\t\t\tAA\n",
      "\t\tAT&T \t\t\tT\n",
      "\t\tBank of America\t\tBAC\n",
      "\t\tBoeing \t\t \tBA\n",
      "\t\tCaterpillar \t \tCAT\n",
      "\t\tChevron \t \tCVX\n",
      "\t\tCisco Systems \t\tCSCO\n",
      "\t\tCoca-Cola \t \tKO\n",
      "\t\tDuPont \t\t \tDD\n",
      "\t\tExxonMobil \t \tXOM\n",
      "\t\tGeneral Electric \tGE\n",
      "\t\tHewlett-Packard\t\tHPQ\n",
      "\t\tThe Home Depot \t \tHD\n",
      "\t\tIntel \t\t \tINTC\n",
      "\t\tIBM \t\t \tIBM\n",
      "\t\tJohnson & Johnson \tJNJ\t\n",
      "\t\tJPMorgan Chase \t \tJPM\n",
      "\t\tKraft\t\t\tKRFT\n",
      "\t\tMcDonald's \t\tMCD\n",
      "\t\tMerck \t\t \tMRK\n",
      "\t\tMicrosoft \t \tMSFT\n",
      "\t\tPfizer \t\t \tPFE\n",
      "\t\tProcter & Gamble \tPG\n",
      "\t\tTravelers \t \tTRV\n",
      "\t\tUnited Technologies \tUTX\n",
      "\t\tVerizon \t \tVZ\n",
      "\t\tWal-Mart \t \tWMT\n",
      "\t\tWalt Disney \t \tDIS\n",
      " \n",
      "\n",
      "\n",
      "\n",
      "\n"
     ]
    }
   ],
   "source": [
    "with open('data/dow_jones_index.names') as f:\n",
    "    print(f.read())"
   ]
  },
  {
   "cell_type": "code",
   "execution_count": 4,
   "metadata": {
    "collapsed": false,
    "jupyter": {
     "outputs_hidden": false
    },
    "pycharm": {
     "name": "#%%\n"
    }
   },
   "outputs": [
    {
     "data": {
      "text/html": [
       "<div>\n",
       "<style scoped>\n",
       "    .dataframe tbody tr th:only-of-type {\n",
       "        vertical-align: middle;\n",
       "    }\n",
       "\n",
       "    .dataframe tbody tr th {\n",
       "        vertical-align: top;\n",
       "    }\n",
       "\n",
       "    .dataframe thead th {\n",
       "        text-align: right;\n",
       "    }\n",
       "</style>\n",
       "<table border=\"1\" class=\"dataframe\">\n",
       "  <thead>\n",
       "    <tr style=\"text-align: right;\">\n",
       "      <th></th>\n",
       "      <th>quarter</th>\n",
       "      <th>stock</th>\n",
       "      <th>date</th>\n",
       "      <th>open</th>\n",
       "      <th>high</th>\n",
       "      <th>low</th>\n",
       "      <th>close</th>\n",
       "      <th>volume</th>\n",
       "      <th>percent_change_price</th>\n",
       "      <th>percent_change_volume_over_last_wk</th>\n",
       "      <th>previous_weeks_volume</th>\n",
       "      <th>next_weeks_open</th>\n",
       "      <th>next_weeks_close</th>\n",
       "      <th>percent_change_next_weeks_price</th>\n",
       "      <th>days_to_next_dividend</th>\n",
       "      <th>percent_return_next_dividend</th>\n",
       "    </tr>\n",
       "  </thead>\n",
       "  <tbody>\n",
       "    <tr>\n",
       "      <th>0</th>\n",
       "      <td>1</td>\n",
       "      <td>AA</td>\n",
       "      <td>1/7/2011</td>\n",
       "      <td>$15.82</td>\n",
       "      <td>$16.72</td>\n",
       "      <td>$15.78</td>\n",
       "      <td>$16.42</td>\n",
       "      <td>239655616</td>\n",
       "      <td>3.79267</td>\n",
       "      <td>NaN</td>\n",
       "      <td>NaN</td>\n",
       "      <td>$16.71</td>\n",
       "      <td>$15.97</td>\n",
       "      <td>-4.428490</td>\n",
       "      <td>26</td>\n",
       "      <td>0.182704</td>\n",
       "    </tr>\n",
       "    <tr>\n",
       "      <th>1</th>\n",
       "      <td>1</td>\n",
       "      <td>AA</td>\n",
       "      <td>1/14/2011</td>\n",
       "      <td>$16.71</td>\n",
       "      <td>$16.71</td>\n",
       "      <td>$15.64</td>\n",
       "      <td>$15.97</td>\n",
       "      <td>242963398</td>\n",
       "      <td>-4.42849</td>\n",
       "      <td>1.380223</td>\n",
       "      <td>239655616.0</td>\n",
       "      <td>$16.19</td>\n",
       "      <td>$15.79</td>\n",
       "      <td>-2.470660</td>\n",
       "      <td>19</td>\n",
       "      <td>0.187852</td>\n",
       "    </tr>\n",
       "    <tr>\n",
       "      <th>2</th>\n",
       "      <td>1</td>\n",
       "      <td>AA</td>\n",
       "      <td>1/21/2011</td>\n",
       "      <td>$16.19</td>\n",
       "      <td>$16.38</td>\n",
       "      <td>$15.60</td>\n",
       "      <td>$15.79</td>\n",
       "      <td>138428495</td>\n",
       "      <td>-2.47066</td>\n",
       "      <td>-43.024959</td>\n",
       "      <td>242963398.0</td>\n",
       "      <td>$15.87</td>\n",
       "      <td>$16.13</td>\n",
       "      <td>1.638310</td>\n",
       "      <td>12</td>\n",
       "      <td>0.189994</td>\n",
       "    </tr>\n",
       "    <tr>\n",
       "      <th>3</th>\n",
       "      <td>1</td>\n",
       "      <td>AA</td>\n",
       "      <td>1/28/2011</td>\n",
       "      <td>$15.87</td>\n",
       "      <td>$16.63</td>\n",
       "      <td>$15.82</td>\n",
       "      <td>$16.13</td>\n",
       "      <td>151379173</td>\n",
       "      <td>1.63831</td>\n",
       "      <td>9.355500</td>\n",
       "      <td>138428495.0</td>\n",
       "      <td>$16.18</td>\n",
       "      <td>$17.14</td>\n",
       "      <td>5.933250</td>\n",
       "      <td>5</td>\n",
       "      <td>0.185989</td>\n",
       "    </tr>\n",
       "    <tr>\n",
       "      <th>4</th>\n",
       "      <td>1</td>\n",
       "      <td>AA</td>\n",
       "      <td>2/4/2011</td>\n",
       "      <td>$16.18</td>\n",
       "      <td>$17.39</td>\n",
       "      <td>$16.18</td>\n",
       "      <td>$17.14</td>\n",
       "      <td>154387761</td>\n",
       "      <td>5.93325</td>\n",
       "      <td>1.987452</td>\n",
       "      <td>151379173.0</td>\n",
       "      <td>$17.33</td>\n",
       "      <td>$17.37</td>\n",
       "      <td>0.230814</td>\n",
       "      <td>97</td>\n",
       "      <td>0.175029</td>\n",
       "    </tr>\n",
       "  </tbody>\n",
       "</table>\n",
       "</div>"
      ],
      "text/plain": [
       "   quarter stock       date    open    high     low   close     volume  \\\n",
       "0        1    AA   1/7/2011  $15.82  $16.72  $15.78  $16.42  239655616   \n",
       "1        1    AA  1/14/2011  $16.71  $16.71  $15.64  $15.97  242963398   \n",
       "2        1    AA  1/21/2011  $16.19  $16.38  $15.60  $15.79  138428495   \n",
       "3        1    AA  1/28/2011  $15.87  $16.63  $15.82  $16.13  151379173   \n",
       "4        1    AA   2/4/2011  $16.18  $17.39  $16.18  $17.14  154387761   \n",
       "\n",
       "   percent_change_price  percent_change_volume_over_last_wk  \\\n",
       "0               3.79267                                 NaN   \n",
       "1              -4.42849                            1.380223   \n",
       "2              -2.47066                          -43.024959   \n",
       "3               1.63831                            9.355500   \n",
       "4               5.93325                            1.987452   \n",
       "\n",
       "   previous_weeks_volume next_weeks_open next_weeks_close  \\\n",
       "0                    NaN          $16.71           $15.97   \n",
       "1            239655616.0          $16.19           $15.79   \n",
       "2            242963398.0          $15.87           $16.13   \n",
       "3            138428495.0          $16.18           $17.14   \n",
       "4            151379173.0          $17.33           $17.37   \n",
       "\n",
       "   percent_change_next_weeks_price  days_to_next_dividend  \\\n",
       "0                        -4.428490                     26   \n",
       "1                        -2.470660                     19   \n",
       "2                         1.638310                     12   \n",
       "3                         5.933250                      5   \n",
       "4                         0.230814                     97   \n",
       "\n",
       "   percent_return_next_dividend  \n",
       "0                      0.182704  \n",
       "1                      0.187852  \n",
       "2                      0.189994  \n",
       "3                      0.185989  \n",
       "4                      0.175029  "
      ]
     },
     "execution_count": 4,
     "metadata": {},
     "output_type": "execute_result"
    }
   ],
   "source": [
    "data = pd.read_csv('data/dow_jones_index.data')\n",
    "data.head()"
   ]
  },
  {
   "cell_type": "markdown",
   "metadata": {
    "collapsed": false,
    "jupyter": {
     "outputs_hidden": false
    },
    "pycharm": {
     "name": "#%% md\n"
    }
   },
   "source": [
    "The dataset contains 16 attributes, well described in the dow_jones_index.names file. Already missing values can be noted in the columns percent_change_next_weeks_price and previous weeks_volume. This likely corresponds to the first day recorded. Every date corresponds to a Friday. The dataset is not ready for the prediction task, as it contains missing values and some columns ar not in the correct data type (price columns, for instance). The percent_change_next_weeks_price column is the most valuable for the prediction task, as it represents the percentage change in price from the current week to the next week."
   ]
  },
  {
   "cell_type": "code",
   "execution_count": 5,
   "metadata": {
    "collapsed": false,
    "jupyter": {
     "outputs_hidden": false
    },
    "pycharm": {
     "name": "#%%\n"
    }
   },
   "outputs": [
    {
     "data": {
      "text/plain": [
       "750"
      ]
     },
     "execution_count": 5,
     "metadata": {},
     "output_type": "execute_result"
    }
   ],
   "source": [
    "len(data)"
   ]
  },
  {
   "cell_type": "markdown",
   "metadata": {
    "collapsed": false,
    "jupyter": {
     "outputs_hidden": false
    },
    "pycharm": {
     "name": "#%% md\n"
    }
   },
   "source": [
    "The dataset only contains 720 rows, which is little, especially considering each row corresponds to one of 30 stocks every friday. This means that 720/30=24 data points are available for each stock. With so few data points, models may not be able to generalise well, and Artificial Neural Networks may not be the best choice, as they require large datasets and are likely to overfit."
   ]
  },
  {
   "cell_type": "markdown",
   "metadata": {
    "collapsed": false,
    "jupyter": {
     "outputs_hidden": false
    },
    "pycharm": {
     "name": "#%% md\n"
    }
   },
   "source": [
    "#### Check data types"
   ]
  },
  {
   "cell_type": "code",
   "execution_count": 6,
   "metadata": {
    "collapsed": false,
    "jupyter": {
     "outputs_hidden": false
    },
    "pycharm": {
     "name": "#%%\n"
    }
   },
   "outputs": [
    {
     "name": "stdout",
     "output_type": "stream",
     "text": [
      "<class 'pandas.core.frame.DataFrame'>\n",
      "RangeIndex: 750 entries, 0 to 749\n",
      "Data columns (total 16 columns):\n",
      " #   Column                              Non-Null Count  Dtype  \n",
      "---  ------                              --------------  -----  \n",
      " 0   quarter                             750 non-null    int64  \n",
      " 1   stock                               750 non-null    object \n",
      " 2   date                                750 non-null    object \n",
      " 3   open                                750 non-null    object \n",
      " 4   high                                750 non-null    object \n",
      " 5   low                                 750 non-null    object \n",
      " 6   close                               750 non-null    object \n",
      " 7   volume                              750 non-null    int64  \n",
      " 8   percent_change_price                750 non-null    float64\n",
      " 9   percent_change_volume_over_last_wk  720 non-null    float64\n",
      " 10  previous_weeks_volume               720 non-null    float64\n",
      " 11  next_weeks_open                     750 non-null    object \n",
      " 12  next_weeks_close                    750 non-null    object \n",
      " 13  percent_change_next_weeks_price     750 non-null    float64\n",
      " 14  days_to_next_dividend               750 non-null    int64  \n",
      " 15  percent_return_next_dividend        750 non-null    float64\n",
      "dtypes: float64(5), int64(3), object(8)\n",
      "memory usage: 93.9+ KB\n"
     ]
    }
   ],
   "source": [
    "data.info()"
   ]
  },
  {
   "cell_type": "markdown",
   "metadata": {
    "collapsed": false,
    "jupyter": {
     "outputs_hidden": false
    },
    "pycharm": {
     "name": "#%% md\n"
    }
   },
   "source": [
    "The date column is of type object. It should be converted to datetime for easier handling. The price columns are also of type object and contain dollar signs. These will be removed and converted to float."
   ]
  },
  {
   "cell_type": "code",
   "execution_count": 7,
   "metadata": {
    "collapsed": false,
    "jupyter": {
     "outputs_hidden": false
    },
    "pycharm": {
     "name": "#%%\n"
    }
   },
   "outputs": [],
   "source": [
    "data['date'] = pd.to_datetime(data['date'])\n",
    "price_columns = ['open', 'high', 'low', 'close', 'next_weeks_open', 'next_weeks_close']\n",
    "data[price_columns] = data[price_columns].replace('[\\$,]', '', regex=True).astype(float)"
   ]
  },
  {
   "cell_type": "code",
   "execution_count": 8,
   "metadata": {
    "collapsed": false,
    "jupyter": {
     "outputs_hidden": false
    },
    "pycharm": {
     "name": "#%%\n"
    }
   },
   "outputs": [
    {
     "name": "stdout",
     "output_type": "stream",
     "text": [
      "<class 'pandas.core.frame.DataFrame'>\n",
      "RangeIndex: 750 entries, 0 to 749\n",
      "Data columns (total 16 columns):\n",
      " #   Column                              Non-Null Count  Dtype         \n",
      "---  ------                              --------------  -----         \n",
      " 0   quarter                             750 non-null    int64         \n",
      " 1   stock                               750 non-null    object        \n",
      " 2   date                                750 non-null    datetime64[ns]\n",
      " 3   open                                750 non-null    float64       \n",
      " 4   high                                750 non-null    float64       \n",
      " 5   low                                 750 non-null    float64       \n",
      " 6   close                               750 non-null    float64       \n",
      " 7   volume                              750 non-null    int64         \n",
      " 8   percent_change_price                750 non-null    float64       \n",
      " 9   percent_change_volume_over_last_wk  720 non-null    float64       \n",
      " 10  previous_weeks_volume               720 non-null    float64       \n",
      " 11  next_weeks_open                     750 non-null    float64       \n",
      " 12  next_weeks_close                    750 non-null    float64       \n",
      " 13  percent_change_next_weeks_price     750 non-null    float64       \n",
      " 14  days_to_next_dividend               750 non-null    int64         \n",
      " 15  percent_return_next_dividend        750 non-null    float64       \n",
      "dtypes: datetime64[ns](1), float64(11), int64(3), object(1)\n",
      "memory usage: 93.9+ KB\n"
     ]
    }
   ],
   "source": [
    "data.info()"
   ]
  },
  {
   "cell_type": "markdown",
   "metadata": {
    "collapsed": false,
    "jupyter": {
     "outputs_hidden": false
    },
    "pycharm": {
     "name": "#%% md\n"
    }
   },
   "source": [
    "#### Basic statistics"
   ]
  },
  {
   "cell_type": "code",
   "execution_count": 9,
   "metadata": {
    "collapsed": false,
    "jupyter": {
     "outputs_hidden": false
    },
    "pycharm": {
     "name": "#%%\n"
    }
   },
   "outputs": [
    {
     "data": {
      "text/html": [
       "<div>\n",
       "<style scoped>\n",
       "    .dataframe tbody tr th:only-of-type {\n",
       "        vertical-align: middle;\n",
       "    }\n",
       "\n",
       "    .dataframe tbody tr th {\n",
       "        vertical-align: top;\n",
       "    }\n",
       "\n",
       "    .dataframe thead th {\n",
       "        text-align: right;\n",
       "    }\n",
       "</style>\n",
       "<table border=\"1\" class=\"dataframe\">\n",
       "  <thead>\n",
       "    <tr style=\"text-align: right;\">\n",
       "      <th></th>\n",
       "      <th>quarter</th>\n",
       "      <th>date</th>\n",
       "      <th>open</th>\n",
       "      <th>high</th>\n",
       "      <th>low</th>\n",
       "      <th>close</th>\n",
       "      <th>volume</th>\n",
       "      <th>percent_change_price</th>\n",
       "      <th>percent_change_volume_over_last_wk</th>\n",
       "      <th>previous_weeks_volume</th>\n",
       "      <th>next_weeks_open</th>\n",
       "      <th>next_weeks_close</th>\n",
       "      <th>percent_change_next_weeks_price</th>\n",
       "      <th>days_to_next_dividend</th>\n",
       "      <th>percent_return_next_dividend</th>\n",
       "    </tr>\n",
       "  </thead>\n",
       "  <tbody>\n",
       "    <tr>\n",
       "      <th>count</th>\n",
       "      <td>750.000000</td>\n",
       "      <td>750</td>\n",
       "      <td>750.000000</td>\n",
       "      <td>750.000000</td>\n",
       "      <td>750.000000</td>\n",
       "      <td>750.000000</td>\n",
       "      <td>7.500000e+02</td>\n",
       "      <td>750.000000</td>\n",
       "      <td>720.000000</td>\n",
       "      <td>7.200000e+02</td>\n",
       "      <td>750.000000</td>\n",
       "      <td>750.000000</td>\n",
       "      <td>750.000000</td>\n",
       "      <td>750.000000</td>\n",
       "      <td>750.000000</td>\n",
       "    </tr>\n",
       "    <tr>\n",
       "      <th>mean</th>\n",
       "      <td>1.520000</td>\n",
       "      <td>2011-03-31 23:02:24</td>\n",
       "      <td>53.651840</td>\n",
       "      <td>54.669987</td>\n",
       "      <td>52.640160</td>\n",
       "      <td>53.729267</td>\n",
       "      <td>1.175478e+08</td>\n",
       "      <td>0.050262</td>\n",
       "      <td>5.593627</td>\n",
       "      <td>1.173876e+08</td>\n",
       "      <td>53.702440</td>\n",
       "      <td>53.889080</td>\n",
       "      <td>0.238468</td>\n",
       "      <td>52.525333</td>\n",
       "      <td>0.691826</td>\n",
       "    </tr>\n",
       "    <tr>\n",
       "      <th>min</th>\n",
       "      <td>1.000000</td>\n",
       "      <td>2011-01-07 00:00:00</td>\n",
       "      <td>10.590000</td>\n",
       "      <td>10.940000</td>\n",
       "      <td>10.400000</td>\n",
       "      <td>10.520000</td>\n",
       "      <td>9.718851e+06</td>\n",
       "      <td>-15.422900</td>\n",
       "      <td>-61.433175</td>\n",
       "      <td>9.718851e+06</td>\n",
       "      <td>10.520000</td>\n",
       "      <td>10.520000</td>\n",
       "      <td>-15.422900</td>\n",
       "      <td>0.000000</td>\n",
       "      <td>0.065574</td>\n",
       "    </tr>\n",
       "    <tr>\n",
       "      <th>25%</th>\n",
       "      <td>1.000000</td>\n",
       "      <td>2011-02-18 00:00:00</td>\n",
       "      <td>29.830000</td>\n",
       "      <td>30.627500</td>\n",
       "      <td>28.720000</td>\n",
       "      <td>30.365000</td>\n",
       "      <td>3.086624e+07</td>\n",
       "      <td>-1.288053</td>\n",
       "      <td>-19.804284</td>\n",
       "      <td>3.067832e+07</td>\n",
       "      <td>30.315000</td>\n",
       "      <td>30.462500</td>\n",
       "      <td>-1.222068</td>\n",
       "      <td>24.000000</td>\n",
       "      <td>0.534549</td>\n",
       "    </tr>\n",
       "    <tr>\n",
       "      <th>50%</th>\n",
       "      <td>2.000000</td>\n",
       "      <td>2011-04-01 00:00:00</td>\n",
       "      <td>45.970000</td>\n",
       "      <td>46.885000</td>\n",
       "      <td>44.800000</td>\n",
       "      <td>45.930000</td>\n",
       "      <td>5.306088e+07</td>\n",
       "      <td>0.000000</td>\n",
       "      <td>0.512586</td>\n",
       "      <td>5.294556e+07</td>\n",
       "      <td>46.015000</td>\n",
       "      <td>46.125000</td>\n",
       "      <td>0.101193</td>\n",
       "      <td>47.000000</td>\n",
       "      <td>0.681067</td>\n",
       "    </tr>\n",
       "    <tr>\n",
       "      <th>75%</th>\n",
       "      <td>2.000000</td>\n",
       "      <td>2011-05-13 00:00:00</td>\n",
       "      <td>72.715000</td>\n",
       "      <td>74.287500</td>\n",
       "      <td>71.037500</td>\n",
       "      <td>72.667500</td>\n",
       "      <td>1.327218e+08</td>\n",
       "      <td>1.650888</td>\n",
       "      <td>21.800622</td>\n",
       "      <td>1.333230e+08</td>\n",
       "      <td>72.715000</td>\n",
       "      <td>72.915000</td>\n",
       "      <td>1.845562</td>\n",
       "      <td>69.000000</td>\n",
       "      <td>0.854291</td>\n",
       "    </tr>\n",
       "    <tr>\n",
       "      <th>max</th>\n",
       "      <td>2.000000</td>\n",
       "      <td>2011-06-24 00:00:00</td>\n",
       "      <td>172.110000</td>\n",
       "      <td>173.540000</td>\n",
       "      <td>167.820000</td>\n",
       "      <td>170.580000</td>\n",
       "      <td>1.453439e+09</td>\n",
       "      <td>9.882230</td>\n",
       "      <td>327.408924</td>\n",
       "      <td>1.453439e+09</td>\n",
       "      <td>172.110000</td>\n",
       "      <td>174.540000</td>\n",
       "      <td>9.882230</td>\n",
       "      <td>336.000000</td>\n",
       "      <td>1.564210</td>\n",
       "    </tr>\n",
       "    <tr>\n",
       "      <th>std</th>\n",
       "      <td>0.499933</td>\n",
       "      <td>NaN</td>\n",
       "      <td>32.638852</td>\n",
       "      <td>33.215994</td>\n",
       "      <td>32.119277</td>\n",
       "      <td>32.788787</td>\n",
       "      <td>1.584381e+08</td>\n",
       "      <td>2.517809</td>\n",
       "      <td>40.543478</td>\n",
       "      <td>1.592322e+08</td>\n",
       "      <td>32.778111</td>\n",
       "      <td>33.016677</td>\n",
       "      <td>2.679538</td>\n",
       "      <td>46.335098</td>\n",
       "      <td>0.305482</td>\n",
       "    </tr>\n",
       "  </tbody>\n",
       "</table>\n",
       "</div>"
      ],
      "text/plain": [
       "          quarter                 date        open        high         low  \\\n",
       "count  750.000000                  750  750.000000  750.000000  750.000000   \n",
       "mean     1.520000  2011-03-31 23:02:24   53.651840   54.669987   52.640160   \n",
       "min      1.000000  2011-01-07 00:00:00   10.590000   10.940000   10.400000   \n",
       "25%      1.000000  2011-02-18 00:00:00   29.830000   30.627500   28.720000   \n",
       "50%      2.000000  2011-04-01 00:00:00   45.970000   46.885000   44.800000   \n",
       "75%      2.000000  2011-05-13 00:00:00   72.715000   74.287500   71.037500   \n",
       "max      2.000000  2011-06-24 00:00:00  172.110000  173.540000  167.820000   \n",
       "std      0.499933                  NaN   32.638852   33.215994   32.119277   \n",
       "\n",
       "            close        volume  percent_change_price  \\\n",
       "count  750.000000  7.500000e+02            750.000000   \n",
       "mean    53.729267  1.175478e+08              0.050262   \n",
       "min     10.520000  9.718851e+06            -15.422900   \n",
       "25%     30.365000  3.086624e+07             -1.288053   \n",
       "50%     45.930000  5.306088e+07              0.000000   \n",
       "75%     72.667500  1.327218e+08              1.650888   \n",
       "max    170.580000  1.453439e+09              9.882230   \n",
       "std     32.788787  1.584381e+08              2.517809   \n",
       "\n",
       "       percent_change_volume_over_last_wk  previous_weeks_volume  \\\n",
       "count                          720.000000           7.200000e+02   \n",
       "mean                             5.593627           1.173876e+08   \n",
       "min                            -61.433175           9.718851e+06   \n",
       "25%                            -19.804284           3.067832e+07   \n",
       "50%                              0.512586           5.294556e+07   \n",
       "75%                             21.800622           1.333230e+08   \n",
       "max                            327.408924           1.453439e+09   \n",
       "std                             40.543478           1.592322e+08   \n",
       "\n",
       "       next_weeks_open  next_weeks_close  percent_change_next_weeks_price  \\\n",
       "count       750.000000        750.000000                       750.000000   \n",
       "mean         53.702440         53.889080                         0.238468   \n",
       "min          10.520000         10.520000                       -15.422900   \n",
       "25%          30.315000         30.462500                        -1.222068   \n",
       "50%          46.015000         46.125000                         0.101193   \n",
       "75%          72.715000         72.915000                         1.845562   \n",
       "max         172.110000        174.540000                         9.882230   \n",
       "std          32.778111         33.016677                         2.679538   \n",
       "\n",
       "       days_to_next_dividend  percent_return_next_dividend  \n",
       "count             750.000000                    750.000000  \n",
       "mean               52.525333                      0.691826  \n",
       "min                 0.000000                      0.065574  \n",
       "25%                24.000000                      0.534549  \n",
       "50%                47.000000                      0.681067  \n",
       "75%                69.000000                      0.854291  \n",
       "max               336.000000                      1.564210  \n",
       "std                46.335098                      0.305482  "
      ]
     },
     "execution_count": 9,
     "metadata": {},
     "output_type": "execute_result"
    }
   ],
   "source": [
    "data.describe()"
   ]
  },
  {
   "cell_type": "markdown",
   "metadata": {
    "collapsed": false,
    "jupyter": {
     "outputs_hidden": false
    },
    "pycharm": {
     "name": "#%% md\n"
    }
   },
   "source": [
    "The percent_change_next_weeks_price column has a high discrepancy between minimum and maximum values, which suggests the presence of outliers. Given the nature of the stock market, this is expected. It would not be beneficial to remove these outliers, as they are likely to be valuable data points for the prediction task, especially given the small dataset."
   ]
  },
  {
   "cell_type": "markdown",
   "metadata": {
    "collapsed": false,
    "jupyter": {
     "outputs_hidden": false
    },
    "pycharm": {
     "name": "#%% md\n"
    }
   },
   "source": [
    "Now, to check for missing values:"
   ]
  },
  {
   "cell_type": "code",
   "execution_count": 10,
   "metadata": {
    "collapsed": false,
    "jupyter": {
     "outputs_hidden": false
    },
    "pycharm": {
     "name": "#%%\n"
    }
   },
   "outputs": [
    {
     "data": {
      "text/plain": [
       "quarter                                0\n",
       "stock                                  0\n",
       "date                                   0\n",
       "open                                   0\n",
       "high                                   0\n",
       "low                                    0\n",
       "close                                  0\n",
       "volume                                 0\n",
       "percent_change_price                   0\n",
       "percent_change_volume_over_last_wk    30\n",
       "previous_weeks_volume                 30\n",
       "next_weeks_open                        0\n",
       "next_weeks_close                       0\n",
       "percent_change_next_weeks_price        0\n",
       "days_to_next_dividend                  0\n",
       "percent_return_next_dividend           0\n",
       "dtype: int64"
      ]
     },
     "execution_count": 10,
     "metadata": {},
     "output_type": "execute_result"
    }
   ],
   "source": [
    "data.isnull().sum()"
   ]
  },
  {
   "cell_type": "markdown",
   "metadata": {
    "collapsed": false,
    "jupyter": {
     "outputs_hidden": false
    },
    "pycharm": {
     "name": "#%% md\n"
    }
   },
   "source": [
    "Considering the importance of the columns where missing values are detected, the best policy will be to drop rows with missing values."
   ]
  },
  {
   "cell_type": "code",
   "execution_count": 11,
   "metadata": {
    "collapsed": false,
    "jupyter": {
     "outputs_hidden": false
    },
    "pycharm": {
     "name": "#%%\n"
    }
   },
   "outputs": [],
   "source": [
    "data = data.dropna()"
   ]
  },
  {
   "cell_type": "markdown",
   "metadata": {
    "collapsed": false,
    "jupyter": {
     "outputs_hidden": false
    },
    "pycharm": {
     "name": "#%% md\n"
    }
   },
   "source": [
    "Find all dates"
   ]
  },
  {
   "cell_type": "code",
   "execution_count": 12,
   "metadata": {
    "collapsed": false,
    "jupyter": {
     "outputs_hidden": false
    },
    "pycharm": {
     "name": "#%%\n"
    }
   },
   "outputs": [
    {
     "data": {
      "text/plain": [
       "<DatetimeArray>\n",
       "['2011-01-14 00:00:00', '2011-01-21 00:00:00', '2011-01-28 00:00:00',\n",
       " '2011-02-04 00:00:00', '2011-02-11 00:00:00', '2011-02-18 00:00:00',\n",
       " '2011-02-25 00:00:00', '2011-03-04 00:00:00', '2011-03-11 00:00:00',\n",
       " '2011-03-18 00:00:00', '2011-03-25 00:00:00', '2011-04-01 00:00:00',\n",
       " '2011-04-08 00:00:00', '2011-04-15 00:00:00', '2011-04-21 00:00:00',\n",
       " '2011-04-29 00:00:00', '2011-05-06 00:00:00', '2011-05-13 00:00:00',\n",
       " '2011-05-20 00:00:00', '2011-05-27 00:00:00', '2011-06-03 00:00:00',\n",
       " '2011-06-10 00:00:00', '2011-06-17 00:00:00', '2011-06-24 00:00:00']\n",
       "Length: 24, dtype: datetime64[ns]"
      ]
     },
     "execution_count": 12,
     "metadata": {},
     "output_type": "execute_result"
    }
   ],
   "source": [
    "data['date'].unique()"
   ]
  },
  {
   "cell_type": "markdown",
   "metadata": {
    "collapsed": false,
    "jupyter": {
     "outputs_hidden": false
    },
    "pycharm": {
     "name": "#%% md\n"
    }
   },
   "source": [
    "#### Plot evolution of percent_change_price for each stock"
   ]
  },
  {
   "cell_type": "code",
   "execution_count": 13,
   "metadata": {
    "collapsed": false,
    "jupyter": {
     "outputs_hidden": false
    },
    "pycharm": {
     "name": "#%%\n"
    }
   },
   "outputs": [
    {
     "data": {
      "image/png": "[encoded data removed]",
      "text/plain": [
       "<Figure size 640x480 with 1 Axes>"
      ]
     },
     "metadata": {},
     "output_type": "display_data"
    }
   ],
   "source": [
    "sns.lineplot(data=data, x='date', y='percent_change_price', hue='stock')\n",
    "plt.show()"
   ]
  },
  {
   "cell_type": "markdown",
   "metadata": {
    "collapsed": false,
    "jupyter": {
     "outputs_hidden": false
    },
    "pycharm": {
     "name": "#%% md\n"
    }
   },
   "source": [
    "Some stocks seem to be more volatile than others, with larger fluctuations in the percent_change_price. This is expected, as some stocks are more volatile than others. This information can be valuable for the prediction task."
   ]
  },
  {
   "cell_type": "markdown",
   "metadata": {
    "collapsed": false,
    "jupyter": {
     "outputs_hidden": false
    },
    "pycharm": {
     "name": "#%% md\n"
    }
   },
   "source": [
    "#### Plot correlation"
   ]
  },
  {
   "cell_type": "code",
   "execution_count": 14,
   "metadata": {
    "collapsed": false,
    "jupyter": {
     "outputs_hidden": false
    },
    "pycharm": {
     "name": "#%%\n"
    }
   },
   "outputs": [],
   "source": [
    "#take day and month from date\n",
    "data['day'] = data['date'].dt.day\n",
    "data['month'] = data['date'].dt.month"
   ]
  },
  {
   "cell_type": "code",
   "execution_count": 15,
   "metadata": {
    "collapsed": false,
    "jupyter": {
     "outputs_hidden": false
    },
    "pycharm": {
     "name": "#%%\n"
    }
   },
   "outputs": [
    {
     "data": {
      "text/plain": [
       "<Axes: >"
      ]
     },
     "execution_count": 15,
     "metadata": {},
     "output_type": "execute_result"
    },
    {
     "data": {
      "image/png": "[encoded data removed]",
      "text/plain": [
       "<Figure size 640x480 with 2 Axes>"
      ]
     },
     "metadata": {},
     "output_type": "display_data"
    }
   ],
   "source": [
    "corr = data.drop(columns=['date', 'stock']).corr()\n",
    "sns.heatmap(corr)"
   ]
  },
  {
   "cell_type": "markdown",
   "metadata": {
    "collapsed": false,
    "jupyter": {
     "outputs_hidden": false
    },
    "pycharm": {
     "name": "#%% md\n"
    }
   },
   "source": [
    "The percent_change_next_weeks_price column has a low correlation with all features, which suggests that it is not dependent on them, and the prediction task will be challenging."
   ]
  },
  {
   "cell_type": "markdown",
   "metadata": {
    "collapsed": false,
    "jupyter": {
     "outputs_hidden": false
    },
    "pycharm": {
     "name": "#%% md\n"
    }
   },
   "source": [
    "#### Feature engineering"
   ]
  },
  {
   "cell_type": "markdown",
   "metadata": {
    "collapsed": false,
    "jupyter": {
     "outputs_hidden": false
    },
    "pycharm": {
     "name": "#%% md\n"
    }
   },
   "source": [
    "Stock values are known to be difficult to predict. Additionally, there are only 24 data points for each stock, which means that regression models to predict percent change in price may not be the best choice. Instead, two approaches will be made:\n",
    "* Rank the stocks by percent_change_next_weeks_price, and predict the rank of each stock (where 1 is the best stock and 30 is the worst stock);\n",
    "* For each day, find the maximum value in percent_change_price, and the corresponding stock. Assign 1 to the stock with the maximum value, and 0 to the others in a new column called 'best_stock'. This will be a classification task."
   ]
  },
  {
   "cell_type": "markdown",
   "metadata": {
    "collapsed": false,
    "jupyter": {
     "outputs_hidden": false
    },
    "pycharm": {
     "name": "#%% md\n"
    }
   },
   "source": [
    "First, determine whether a stock is the best stock for a given day, and rank the stocks by percent_change_next_weeks_price."
   ]
  },
  {
   "cell_type": "code",
   "execution_count": 16,
   "metadata": {
    "collapsed": false,
    "jupyter": {
     "outputs_hidden": false
    },
    "pycharm": {
     "name": "#%%\n"
    }
   },
   "outputs": [],
   "source": [
    "data['best_stock'] = data.groupby('date')['percent_change_next_weeks_price'].transform('max') == data['percent_change_next_weeks_price']\n",
    "data['rank'] = data.groupby('date')['percent_change_next_weeks_price'].rank(ascending=False)"
   ]
  },
  {
   "cell_type": "markdown",
   "metadata": {
    "collapsed": false,
    "jupyter": {
     "outputs_hidden": false
    },
    "pycharm": {
     "name": "#%% md\n"
    }
   },
   "source": [
    "Now, one hot encode the stock column."
   ]
  },
  {
   "cell_type": "code",
   "execution_count": 17,
   "metadata": {
    "collapsed": false,
    "jupyter": {
     "outputs_hidden": false
    },
    "pycharm": {
     "name": "#%%\n"
    }
   },
   "outputs": [],
   "source": [
    "original_data = data.copy()"
   ]
  },
  {
   "cell_type": "code",
   "execution_count": 18,
   "metadata": {
    "collapsed": false,
    "jupyter": {
     "outputs_hidden": false
    },
    "pycharm": {
     "name": "#%%\n"
    }
   },
   "outputs": [],
   "source": [
    "data = pd.get_dummies(data, columns=['stock'])"
   ]
  },
  {
   "cell_type": "markdown",
   "metadata": {
    "collapsed": false,
    "jupyter": {
     "outputs_hidden": false
    },
    "pycharm": {
     "name": "#%% md\n"
    }
   },
   "source": [
    "Now, sort the data by date for easier manipulation."
   ]
  },
  {
   "cell_type": "code",
   "execution_count": 19,
   "metadata": {
    "collapsed": false,
    "jupyter": {
     "outputs_hidden": false
    },
    "pycharm": {
     "name": "#%%\n"
    }
   },
   "outputs": [
    {
     "data": {
      "text/html": [
       "<div>\n",
       "<style scoped>\n",
       "    .dataframe tbody tr th:only-of-type {\n",
       "        vertical-align: middle;\n",
       "    }\n",
       "\n",
       "    .dataframe tbody tr th {\n",
       "        vertical-align: top;\n",
       "    }\n",
       "\n",
       "    .dataframe thead th {\n",
       "        text-align: right;\n",
       "    }\n",
       "</style>\n",
       "<table border=\"1\" class=\"dataframe\">\n",
       "  <thead>\n",
       "    <tr style=\"text-align: right;\">\n",
       "      <th></th>\n",
       "      <th>quarter</th>\n",
       "      <th>date</th>\n",
       "      <th>open</th>\n",
       "      <th>high</th>\n",
       "      <th>low</th>\n",
       "      <th>close</th>\n",
       "      <th>volume</th>\n",
       "      <th>percent_change_price</th>\n",
       "      <th>percent_change_volume_over_last_wk</th>\n",
       "      <th>previous_weeks_volume</th>\n",
       "      <th>...</th>\n",
       "      <th>stock_MRK</th>\n",
       "      <th>stock_MSFT</th>\n",
       "      <th>stock_PFE</th>\n",
       "      <th>stock_PG</th>\n",
       "      <th>stock_T</th>\n",
       "      <th>stock_TRV</th>\n",
       "      <th>stock_UTX</th>\n",
       "      <th>stock_VZ</th>\n",
       "      <th>stock_WMT</th>\n",
       "      <th>stock_XOM</th>\n",
       "    </tr>\n",
       "  </thead>\n",
       "  <tbody>\n",
       "    <tr>\n",
       "      <th>1</th>\n",
       "      <td>1</td>\n",
       "      <td>2011-01-14</td>\n",
       "      <td>16.71</td>\n",
       "      <td>16.71</td>\n",
       "      <td>15.64</td>\n",
       "      <td>15.97</td>\n",
       "      <td>242963398</td>\n",
       "      <td>-4.428490</td>\n",
       "      <td>1.380223</td>\n",
       "      <td>239655616.0</td>\n",
       "      <td>...</td>\n",
       "      <td>False</td>\n",
       "      <td>False</td>\n",
       "      <td>False</td>\n",
       "      <td>False</td>\n",
       "      <td>False</td>\n",
       "      <td>False</td>\n",
       "      <td>False</td>\n",
       "      <td>False</td>\n",
       "      <td>False</td>\n",
       "      <td>False</td>\n",
       "    </tr>\n",
       "    <tr>\n",
       "      <th>61</th>\n",
       "      <td>1</td>\n",
       "      <td>2011-01-14</td>\n",
       "      <td>20.94</td>\n",
       "      <td>21.23</td>\n",
       "      <td>20.70</td>\n",
       "      <td>21.21</td>\n",
       "      <td>154708263</td>\n",
       "      <td>1.289400</td>\n",
       "      <td>-49.032988</td>\n",
       "      <td>303545878.0</td>\n",
       "      <td>...</td>\n",
       "      <td>False</td>\n",
       "      <td>False</td>\n",
       "      <td>False</td>\n",
       "      <td>False</td>\n",
       "      <td>False</td>\n",
       "      <td>False</td>\n",
       "      <td>False</td>\n",
       "      <td>False</td>\n",
       "      <td>False</td>\n",
       "      <td>False</td>\n",
       "    </tr>\n",
       "    <tr>\n",
       "      <th>73</th>\n",
       "      <td>1</td>\n",
       "      <td>2011-01-14</td>\n",
       "      <td>90.95</td>\n",
       "      <td>92.85</td>\n",
       "      <td>90.12</td>\n",
       "      <td>92.83</td>\n",
       "      <td>28260512</td>\n",
       "      <td>2.067070</td>\n",
       "      <td>-20.518947</td>\n",
       "      <td>35556288.0</td>\n",
       "      <td>...</td>\n",
       "      <td>False</td>\n",
       "      <td>False</td>\n",
       "      <td>False</td>\n",
       "      <td>False</td>\n",
       "      <td>False</td>\n",
       "      <td>False</td>\n",
       "      <td>False</td>\n",
       "      <td>False</td>\n",
       "      <td>False</td>\n",
       "      <td>False</td>\n",
       "    </tr>\n",
       "    <tr>\n",
       "      <th>85</th>\n",
       "      <td>1</td>\n",
       "      <td>2011-01-14</td>\n",
       "      <td>48.30</td>\n",
       "      <td>49.80</td>\n",
       "      <td>47.20</td>\n",
       "      <td>49.80</td>\n",
       "      <td>34546875</td>\n",
       "      <td>3.105590</td>\n",
       "      <td>24.903787</td>\n",
       "      <td>27658789.0</td>\n",
       "      <td>...</td>\n",
       "      <td>False</td>\n",
       "      <td>False</td>\n",
       "      <td>False</td>\n",
       "      <td>False</td>\n",
       "      <td>False</td>\n",
       "      <td>False</td>\n",
       "      <td>False</td>\n",
       "      <td>False</td>\n",
       "      <td>False</td>\n",
       "      <td>False</td>\n",
       "    </tr>\n",
       "    <tr>\n",
       "      <th>97</th>\n",
       "      <td>1</td>\n",
       "      <td>2011-01-14</td>\n",
       "      <td>39.01</td>\n",
       "      <td>39.81</td>\n",
       "      <td>38.92</td>\n",
       "      <td>39.29</td>\n",
       "      <td>31943413</td>\n",
       "      <td>0.717765</td>\n",
       "      <td>-56.192464</td>\n",
       "      <td>72917621.0</td>\n",
       "      <td>...</td>\n",
       "      <td>False</td>\n",
       "      <td>False</td>\n",
       "      <td>False</td>\n",
       "      <td>False</td>\n",
       "      <td>False</td>\n",
       "      <td>False</td>\n",
       "      <td>False</td>\n",
       "      <td>False</td>\n",
       "      <td>False</td>\n",
       "      <td>False</td>\n",
       "    </tr>\n",
       "    <tr>\n",
       "      <th>...</th>\n",
       "      <td>...</td>\n",
       "      <td>...</td>\n",
       "      <td>...</td>\n",
       "      <td>...</td>\n",
       "      <td>...</td>\n",
       "      <td>...</td>\n",
       "      <td>...</td>\n",
       "      <td>...</td>\n",
       "      <td>...</td>\n",
       "      <td>...</td>\n",
       "      <td>...</td>\n",
       "      <td>...</td>\n",
       "      <td>...</td>\n",
       "      <td>...</td>\n",
       "      <td>...</td>\n",
       "      <td>...</td>\n",
       "      <td>...</td>\n",
       "      <td>...</td>\n",
       "      <td>...</td>\n",
       "      <td>...</td>\n",
       "      <td>...</td>\n",
       "    </tr>\n",
       "    <tr>\n",
       "      <th>645</th>\n",
       "      <td>2</td>\n",
       "      <td>2011-06-24</td>\n",
       "      <td>24.17</td>\n",
       "      <td>24.86</td>\n",
       "      <td>24.16</td>\n",
       "      <td>24.30</td>\n",
       "      <td>309206180</td>\n",
       "      <td>0.537857</td>\n",
       "      <td>10.261383</td>\n",
       "      <td>280430166.0</td>\n",
       "      <td>...</td>\n",
       "      <td>False</td>\n",
       "      <td>True</td>\n",
       "      <td>False</td>\n",
       "      <td>False</td>\n",
       "      <td>False</td>\n",
       "      <td>False</td>\n",
       "      <td>False</td>\n",
       "      <td>False</td>\n",
       "      <td>False</td>\n",
       "      <td>False</td>\n",
       "    </tr>\n",
       "    <tr>\n",
       "      <th>502</th>\n",
       "      <td>2</td>\n",
       "      <td>2011-06-24</td>\n",
       "      <td>34.29</td>\n",
       "      <td>35.69</td>\n",
       "      <td>34.28</td>\n",
       "      <td>35.08</td>\n",
       "      <td>65416820</td>\n",
       "      <td>2.303880</td>\n",
       "      <td>-14.260438</td>\n",
       "      <td>76297124.0</td>\n",
       "      <td>...</td>\n",
       "      <td>False</td>\n",
       "      <td>False</td>\n",
       "      <td>False</td>\n",
       "      <td>False</td>\n",
       "      <td>False</td>\n",
       "      <td>False</td>\n",
       "      <td>False</td>\n",
       "      <td>False</td>\n",
       "      <td>False</td>\n",
       "      <td>False</td>\n",
       "    </tr>\n",
       "    <tr>\n",
       "      <th>424</th>\n",
       "      <td>2</td>\n",
       "      <td>2011-06-24</td>\n",
       "      <td>96.49</td>\n",
       "      <td>102.50</td>\n",
       "      <td>96.05</td>\n",
       "      <td>100.01</td>\n",
       "      <td>43722864</td>\n",
       "      <td>3.648050</td>\n",
       "      <td>0.267013</td>\n",
       "      <td>43606429.0</td>\n",
       "      <td>...</td>\n",
       "      <td>False</td>\n",
       "      <td>False</td>\n",
       "      <td>False</td>\n",
       "      <td>False</td>\n",
       "      <td>False</td>\n",
       "      <td>False</td>\n",
       "      <td>False</td>\n",
       "      <td>False</td>\n",
       "      <td>False</td>\n",
       "      <td>False</td>\n",
       "    </tr>\n",
       "    <tr>\n",
       "      <th>593</th>\n",
       "      <td>2</td>\n",
       "      <td>2011-06-24</td>\n",
       "      <td>65.37</td>\n",
       "      <td>66.82</td>\n",
       "      <td>64.43</td>\n",
       "      <td>64.93</td>\n",
       "      <td>49806614</td>\n",
       "      <td>-0.673092</td>\n",
       "      <td>15.306642</td>\n",
       "      <td>43194922.0</td>\n",
       "      <td>...</td>\n",
       "      <td>False</td>\n",
       "      <td>False</td>\n",
       "      <td>False</td>\n",
       "      <td>False</td>\n",
       "      <td>False</td>\n",
       "      <td>False</td>\n",
       "      <td>False</td>\n",
       "      <td>False</td>\n",
       "      <td>False</td>\n",
       "      <td>False</td>\n",
       "    </tr>\n",
       "    <tr>\n",
       "      <th>749</th>\n",
       "      <td>2</td>\n",
       "      <td>2011-06-24</td>\n",
       "      <td>78.65</td>\n",
       "      <td>81.12</td>\n",
       "      <td>76.78</td>\n",
       "      <td>76.78</td>\n",
       "      <td>118679791</td>\n",
       "      <td>-2.377620</td>\n",
       "      <td>18.064204</td>\n",
       "      <td>100521400.0</td>\n",
       "      <td>...</td>\n",
       "      <td>False</td>\n",
       "      <td>False</td>\n",
       "      <td>False</td>\n",
       "      <td>False</td>\n",
       "      <td>False</td>\n",
       "      <td>False</td>\n",
       "      <td>False</td>\n",
       "      <td>False</td>\n",
       "      <td>False</td>\n",
       "      <td>True</td>\n",
       "    </tr>\n",
       "  </tbody>\n",
       "</table>\n",
       "<p>720 rows × 49 columns</p>\n",
       "</div>"
      ],
      "text/plain": [
       "     quarter       date   open    high    low   close     volume  \\\n",
       "1          1 2011-01-14  16.71   16.71  15.64   15.97  242963398   \n",
       "61         1 2011-01-14  20.94   21.23  20.70   21.21  154708263   \n",
       "73         1 2011-01-14  90.95   92.85  90.12   92.83   28260512   \n",
       "85         1 2011-01-14  48.30   49.80  47.20   49.80   34546875   \n",
       "97         1 2011-01-14  39.01   39.81  38.92   39.29   31943413   \n",
       "..       ...        ...    ...     ...    ...     ...        ...   \n",
       "645        2 2011-06-24  24.17   24.86  24.16   24.30  309206180   \n",
       "502        2 2011-06-24  34.29   35.69  34.28   35.08   65416820   \n",
       "424        2 2011-06-24  96.49  102.50  96.05  100.01   43722864   \n",
       "593        2 2011-06-24  65.37   66.82  64.43   64.93   49806614   \n",
       "749        2 2011-06-24  78.65   81.12  76.78   76.78  118679791   \n",
       "\n",
       "     percent_change_price  percent_change_volume_over_last_wk  \\\n",
       "1               -4.428490                            1.380223   \n",
       "61               1.289400                          -49.032988   \n",
       "73               2.067070                          -20.518947   \n",
       "85               3.105590                           24.903787   \n",
       "97               0.717765                          -56.192464   \n",
       "..                    ...                                 ...   \n",
       "645              0.537857                           10.261383   \n",
       "502              2.303880                          -14.260438   \n",
       "424              3.648050                            0.267013   \n",
       "593             -0.673092                           15.306642   \n",
       "749             -2.377620                           18.064204   \n",
       "\n",
       "     previous_weeks_volume  ...  stock_MRK  stock_MSFT  stock_PFE  stock_PG  \\\n",
       "1              239655616.0  ...      False       False      False     False   \n",
       "61             303545878.0  ...      False       False      False     False   \n",
       "73              35556288.0  ...      False       False      False     False   \n",
       "85              27658789.0  ...      False       False      False     False   \n",
       "97              72917621.0  ...      False       False      False     False   \n",
       "..                     ...  ...        ...         ...        ...       ...   \n",
       "645            280430166.0  ...      False        True      False     False   \n",
       "502             76297124.0  ...      False       False      False     False   \n",
       "424             43606429.0  ...      False       False      False     False   \n",
       "593             43194922.0  ...      False       False      False     False   \n",
       "749            100521400.0  ...      False       False      False     False   \n",
       "\n",
       "     stock_T  stock_TRV  stock_UTX  stock_VZ  stock_WMT  stock_XOM  \n",
       "1      False      False      False     False      False      False  \n",
       "61     False      False      False     False      False      False  \n",
       "73     False      False      False     False      False      False  \n",
       "85     False      False      False     False      False      False  \n",
       "97     False      False      False     False      False      False  \n",
       "..       ...        ...        ...       ...        ...        ...  \n",
       "645    False      False      False     False      False      False  \n",
       "502    False      False      False     False      False      False  \n",
       "424    False      False      False     False      False      False  \n",
       "593    False      False      False     False      False      False  \n",
       "749    False      False      False     False      False       True  \n",
       "\n",
       "[720 rows x 49 columns]"
      ]
     },
     "execution_count": 19,
     "metadata": {},
     "output_type": "execute_result"
    }
   ],
   "source": [
    "data = data.sort_values('date')\n",
    "data"
   ]
  },
  {
   "cell_type": "markdown",
   "metadata": {
    "collapsed": false,
    "jupyter": {
     "outputs_hidden": false
    },
    "pycharm": {
     "name": "#%% md\n"
    }
   },
   "source": [
    "## Modelling\n",
    "-----\n"
   ]
  },
  {
   "cell_type": "code",
   "execution_count": 20,
   "metadata": {
    "collapsed": false,
    "jupyter": {
     "outputs_hidden": false
    },
    "pycharm": {
     "name": "#%%\n"
    }
   },
   "outputs": [
    {
     "data": {
      "text/plain": [
       "Index(['quarter', 'date', 'open', 'high', 'low', 'close', 'volume',\n",
       "       'percent_change_price', 'percent_change_volume_over_last_wk',\n",
       "       'previous_weeks_volume', 'next_weeks_open', 'next_weeks_close',\n",
       "       'percent_change_next_weeks_price', 'days_to_next_dividend',\n",
       "       'percent_return_next_dividend', 'day', 'month', 'best_stock', 'rank',\n",
       "       'stock_AA', 'stock_AXP', 'stock_BA', 'stock_BAC', 'stock_CAT',\n",
       "       'stock_CSCO', 'stock_CVX', 'stock_DD', 'stock_DIS', 'stock_GE',\n",
       "       'stock_HD', 'stock_HPQ', 'stock_IBM', 'stock_INTC', 'stock_JNJ',\n",
       "       'stock_JPM', 'stock_KO', 'stock_KRFT', 'stock_MCD', 'stock_MMM',\n",
       "       'stock_MRK', 'stock_MSFT', 'stock_PFE', 'stock_PG', 'stock_T',\n",
       "       'stock_TRV', 'stock_UTX', 'stock_VZ', 'stock_WMT', 'stock_XOM'],\n",
       "      dtype='object')"
      ]
     },
     "execution_count": 20,
     "metadata": {},
     "output_type": "execute_result"
    }
   ],
   "source": [
    "data.columns"
   ]
  },
  {
   "cell_type": "markdown",
   "metadata": {
    "collapsed": false,
    "jupyter": {
     "outputs_hidden": false
    },
    "pycharm": {
     "name": "#%% md\n"
    }
   },
   "source": [
    "#### Ranking"
   ]
  },
  {
   "cell_type": "markdown",
   "metadata": {
    "collapsed": false,
    "jupyter": {
     "outputs_hidden": false
    },
    "pycharm": {
     "name": "#%% md\n"
    }
   },
   "source": [
    "Approaching the ranking problem as a regression, with random forest regressor:"
   ]
  },
  {
   "cell_type": "code",
   "execution_count": 21,
   "metadata": {
    "collapsed": false,
    "jupyter": {
     "outputs_hidden": false
    },
    "pycharm": {
     "name": "#%%\n"
    }
   },
   "outputs": [
    {
     "name": "stdout",
     "output_type": "stream",
     "text": [
      "-0.04095763860180379\n",
      "-0.033634861304234986\n",
      "-0.07383639476606052\n",
      "0.03999284318340324\n",
      "-0.10771137181144952\n",
      "0.047650769080043065\n",
      "-0.06328497409326417\n",
      "-0.028658883248730893\n",
      "-0.04790557216506963\n",
      "-0.12289927767313613\n"
     ]
    }
   ],
   "source": [
    "\n",
    "kf = KFold(n_splits=10)\n",
    "features = ['day', 'month', 'percent_change_price', 'previous_weeks_volume', 'days_to_next_dividend', 'percent_return_next_dividend',\n",
    "            'stock_AA', 'stock_AXP', 'stock_BA', 'stock_BAC', 'stock_CAT', 'stock_CSCO', 'stock_CVX', 'stock_DD', 'stock_DIS', 'stock_GE',\n",
    "            'stock_HD', 'stock_HPQ', 'stock_IBM', 'stock_INTC', 'stock_JNJ', 'stock_JPM', 'stock_KO', 'stock_KRFT', 'stock_MCD', 'stock_MMM',\n",
    "            'stock_MRK', 'stock_MSFT', 'stock_PFE', 'stock_PG', 'stock_T', 'stock_TRV', 'stock_UTX', 'stock_VZ', 'stock_WMT', 'stock_XOM']\n",
    "label = 'rank'\n",
    "model = RandomForestRegressor()\n",
    "for train_index, test_index in kf.split(data):\n",
    "    X_train, X_test = data.iloc[train_index][features], data.iloc[test_index][features]\n",
    "    y_train, y_test = data.iloc[train_index][label], data.iloc[test_index][label]\n",
    "    model.fit(X_train, y_train)\n",
    "    y_pred = model.predict(X_test)\n",
    "    print(r2_score(y_test, y_pred))\n"
   ]
  },
  {
   "cell_type": "markdown",
   "metadata": {
    "collapsed": false,
    "jupyter": {
     "outputs_hidden": false
    },
    "pycharm": {
     "name": "#%% md\n"
    }
   },
   "source": [
    "This model performs very poorly. The R2 score is negative in some cases, which means that the model is worse than a horizontal line."
   ]
  },
  {
   "cell_type": "code",
   "execution_count": 22,
   "metadata": {
    "collapsed": false,
    "jupyter": {
     "outputs_hidden": false
    },
    "pycharm": {
     "name": "#%%\n"
    }
   },
   "outputs": [
    {
     "data": {
      "image/png": "[encoded data removed]",
      "text/plain": [
       "<Figure size 640x480 with 1 Axes>"
      ]
     },
     "metadata": {},
     "output_type": "display_data"
    }
   ],
   "source": [
    "importances = model.feature_importances_\n",
    "indices = np.argsort(importances)[::-1]\n",
    "plt.figure()\n",
    "plt.title(\"Feature importances\")\n",
    "\n",
    "plt.bar(range(X_train.shape[1]), importances[indices], align=\"center\")\n",
    "plt.xticks(range(X_train.shape[1]), np.array(features)[indices], rotation=90)\n",
    "plt.xlim([-1, X_train.shape[1]])\n",
    "plt.show()"
   ]
  },
  {
   "cell_type": "markdown",
   "metadata": {
    "collapsed": false,
    "jupyter": {
     "outputs_hidden": false
    },
    "pycharm": {
     "name": "#%% md\n"
    }
   },
   "source": [
    "The most important features are percent_change_price, previous_weeks_volume, and percent_return_next_dividend. The stock features are not very important, which suggests that the stock itself is not a good predictor of the rank. By keeping these features we are also risking the curse of dimensionality, meaning that the larger the number of features the larger the number of data points required to make accurate predictions. therefore, the stock features will be dropped."
   ]
  },
  {
   "cell_type": "markdown",
   "metadata": {
    "collapsed": false,
    "jupyter": {
     "outputs_hidden": false
    },
    "pycharm": {
     "name": "#%% md\n"
    }
   },
   "source": [
    "Now, to leave out the last 7 days for validation and testing the model further."
   ]
  },
  {
   "cell_type": "code",
   "execution_count": 23,
   "metadata": {
    "collapsed": false,
    "jupyter": {
     "outputs_hidden": false
    },
    "pycharm": {
     "name": "#%%\n"
    }
   },
   "outputs": [],
   "source": [
    "#leave out the last 7 days for validation\n",
    "train = data[data['date'] < '2011-05-13']\n",
    "test = data[data['date'] >= '2011-05-13']"
   ]
  },
  {
   "cell_type": "code",
   "execution_count": 24,
   "metadata": {
    "collapsed": false,
    "jupyter": {
     "outputs_hidden": false
    },
    "pycharm": {
     "name": "#%%\n"
    }
   },
   "outputs": [
    {
     "data": {
      "text/plain": [
       "array([12.9 , 16.59, 12.96, 16.94, 24.15, 10.99, 22.61, 20.51, 21.22,\n",
       "       16.79, 14.48, 13.43, 15.47, 17.22, 13.09, 17.59, 12.98, 16.14,\n",
       "       12.88, 15.83, 13.71, 14.53, 16.82, 13.33, 16.08, 14.9 , 15.67,\n",
       "       17.47, 12.15, 14.3 , 18.12, 15.58, 17.01, 16.07, 11.57, 15.39,\n",
       "       17.34, 15.56, 21.66, 13.7 , 15.22, 11.6 , 16.47, 16.36, 16.34,\n",
       "       14.21, 17.25, 12.24, 16.88, 12.46, 17.2 , 13.22, 14.91, 16.47,\n",
       "       12.63, 15.37, 12.7 , 21.99, 12.57, 16.49, 15.17, 14.37, 14.39,\n",
       "       15.87, 17.89, 11.98, 13.97, 17.36, 12.96, 15.16, 16.46, 15.16,\n",
       "       11.47, 19.09, 16.58, 15.41, 15.76, 16.84, 13.53, 14.45, 15.51,\n",
       "       15.06, 17.22, 13.45, 13.62, 14.28, 14.03, 16.28, 15.76, 17.35,\n",
       "       15.94, 15.45, 17.87, 10.36, 11.84, 17.34, 13.12, 12.6 , 15.33,\n",
       "       15.36, 13.56, 15.07, 18.13, 13.5 , 15.32, 15.85, 16.89, 10.73,\n",
       "       13.5 , 11.6 , 20.  , 16.93, 14.9 , 14.83, 18.57, 17.98, 13.34,\n",
       "       17.5 , 15.15, 16.44, 15.66, 15.27, 14.63, 16.44, 13.64, 14.68,\n",
       "       13.28, 15.69, 15.12, 15.01, 14.13,  8.78, 15.  , 13.17, 10.2 ,\n",
       "       13.24,  8.96, 13.39, 12.95, 14.07,  9.01, 21.06, 11.88, 16.06,\n",
       "       20.72, 14.19, 11.51, 16.85, 12.01, 18.11, 13.07, 14.69, 16.65,\n",
       "       13.91, 18.33, 12.71, 17.48, 12.35, 15.12, 16.5 , 18.77, 14.03,\n",
       "       15.84, 15.27, 14.14, 14.66, 15.  , 14.48, 16.16, 15.07, 12.21,\n",
       "       20.24, 22.19, 12.78, 24.29, 14.53, 18.51, 12.36, 16.49, 12.18,\n",
       "       15.24, 16.44, 21.12, 16.76, 15.84, 14.23, 12.63, 14.15, 12.87,\n",
       "       15.9 , 17.65, 21.85, 15.32, 10.83, 16.41,  9.19, 17.88, 14.58,\n",
       "       14.98, 14.18, 16.61, 18.83, 11.16, 14.33, 13.36, 19.06, 17.88,\n",
       "       11.34, 17.  , 13.3 ])"
      ]
     },
     "execution_count": 24,
     "metadata": {},
     "output_type": "execute_result"
    }
   ],
   "source": [
    "features = ['day', 'month', 'percent_change_price', 'previous_weeks_volume', 'days_to_next_dividend', 'percent_return_next_dividend']\n",
    "label = 'rank'\n",
    "model = RandomForestRegressor()\n",
    "X_train = train[features]\n",
    "y_train = train[label]\n",
    "X_test = test[features]\n",
    "y_test = test[label]\n",
    "model.fit(X_train, y_train)\n",
    "y_pred = model.predict(X_test)\n",
    "y_pred"
   ]
  },
  {
   "cell_type": "code",
   "execution_count": 25,
   "metadata": {
    "collapsed": false,
    "jupyter": {
     "outputs_hidden": false
    },
    "pycharm": {
     "name": "#%%\n"
    }
   },
   "outputs": [],
   "source": [
    "#for all 30 in y_pred, rank them and assign the rank to the element out of the 30 in each iteration\n",
    "y_pred = pd.Series(y_pred)\n",
    "for i in range(0, len(y_pred), 30):\n",
    "    y_pred[i:i+30] = y_pred[i:i+30].rank(method='first')"
   ]
  },
  {
   "cell_type": "code",
   "execution_count": 26,
   "metadata": {
    "collapsed": false,
    "jupyter": {
     "outputs_hidden": false
    },
    "pycharm": {
     "name": "#%%\n"
    }
   },
   "outputs": [
    {
     "data": {
      "text/plain": [
       "0       4.0\n",
       "1      20.0\n",
       "2       5.0\n",
       "3      23.0\n",
       "4      30.0\n",
       "       ... \n",
       "205    28.0\n",
       "206    26.0\n",
       "207     4.0\n",
       "208    23.0\n",
       "209     7.0\n",
       "Length: 210, dtype: float64"
      ]
     },
     "execution_count": 26,
     "metadata": {},
     "output_type": "execute_result"
    }
   ],
   "source": [
    "y_pred"
   ]
  },
  {
   "cell_type": "code",
   "execution_count": 27,
   "metadata": {
    "collapsed": false,
    "jupyter": {
     "outputs_hidden": false
    },
    "pycharm": {
     "name": "#%%\n"
    }
   },
   "outputs": [
    {
     "data": {
      "text/html": [
       "<div>\n",
       "<style scoped>\n",
       "    .dataframe tbody tr th:only-of-type {\n",
       "        vertical-align: middle;\n",
       "    }\n",
       "\n",
       "    .dataframe tbody tr th {\n",
       "        vertical-align: top;\n",
       "    }\n",
       "\n",
       "    .dataframe thead th {\n",
       "        text-align: right;\n",
       "    }\n",
       "</style>\n",
       "<table border=\"1\" class=\"dataframe\">\n",
       "  <thead>\n",
       "    <tr style=\"text-align: right;\">\n",
       "      <th></th>\n",
       "      <th>index</th>\n",
       "      <th>rank</th>\n",
       "    </tr>\n",
       "  </thead>\n",
       "  <tbody>\n",
       "    <tr>\n",
       "      <th>0</th>\n",
       "      <td>691</td>\n",
       "      <td>17.0</td>\n",
       "    </tr>\n",
       "    <tr>\n",
       "      <th>1</th>\n",
       "      <td>743</td>\n",
       "      <td>3.0</td>\n",
       "    </tr>\n",
       "    <tr>\n",
       "      <th>2</th>\n",
       "      <td>457</td>\n",
       "      <td>13.0</td>\n",
       "    </tr>\n",
       "    <tr>\n",
       "      <th>3</th>\n",
       "      <td>561</td>\n",
       "      <td>9.0</td>\n",
       "    </tr>\n",
       "    <tr>\n",
       "      <th>4</th>\n",
       "      <td>405</td>\n",
       "      <td>28.0</td>\n",
       "    </tr>\n",
       "    <tr>\n",
       "      <th>...</th>\n",
       "      <td>...</td>\n",
       "      <td>...</td>\n",
       "    </tr>\n",
       "    <tr>\n",
       "      <th>205</th>\n",
       "      <td>645</td>\n",
       "      <td>3.0</td>\n",
       "    </tr>\n",
       "    <tr>\n",
       "      <th>206</th>\n",
       "      <td>502</td>\n",
       "      <td>21.0</td>\n",
       "    </tr>\n",
       "    <tr>\n",
       "      <th>207</th>\n",
       "      <td>424</td>\n",
       "      <td>1.0</td>\n",
       "    </tr>\n",
       "    <tr>\n",
       "      <th>208</th>\n",
       "      <td>593</td>\n",
       "      <td>20.0</td>\n",
       "    </tr>\n",
       "    <tr>\n",
       "      <th>209</th>\n",
       "      <td>749</td>\n",
       "      <td>6.0</td>\n",
       "    </tr>\n",
       "  </tbody>\n",
       "</table>\n",
       "<p>210 rows × 2 columns</p>\n",
       "</div>"
      ],
      "text/plain": [
       "     index  rank\n",
       "0      691  17.0\n",
       "1      743   3.0\n",
       "2      457  13.0\n",
       "3      561   9.0\n",
       "4      405  28.0\n",
       "..     ...   ...\n",
       "205    645   3.0\n",
       "206    502  21.0\n",
       "207    424   1.0\n",
       "208    593  20.0\n",
       "209    749   6.0\n",
       "\n",
       "[210 rows x 2 columns]"
      ]
     },
     "execution_count": 27,
     "metadata": {},
     "output_type": "execute_result"
    }
   ],
   "source": [
    "#convert y_test to dataframe and concatenate y_pred to it\n",
    "y_test = pd.DataFrame(y_test)\n",
    "y_test.reset_index(drop=False, inplace=True)\n",
    "y_test"
   ]
  },
  {
   "cell_type": "code",
   "execution_count": 28,
   "metadata": {
    "collapsed": false,
    "jupyter": {
     "outputs_hidden": false
    },
    "pycharm": {
     "name": "#%%\n"
    }
   },
   "outputs": [],
   "source": [
    "y_test = pd.concat([y_test, y_pred], axis=1)"
   ]
  },
  {
   "cell_type": "code",
   "execution_count": 29,
   "metadata": {
    "collapsed": false,
    "jupyter": {
     "outputs_hidden": false
    },
    "pycharm": {
     "name": "#%%\n"
    }
   },
   "outputs": [],
   "source": [
    "#rename 0 to predicted_rank\n",
    "y_test.rename(columns={0: 'predicted_rank'}, inplace=True)"
   ]
  },
  {
   "cell_type": "code",
   "execution_count": 30,
   "metadata": {
    "collapsed": false,
    "jupyter": {
     "outputs_hidden": false
    },
    "pycharm": {
     "name": "#%%\n"
    }
   },
   "outputs": [
    {
     "data": {
      "text/html": [
       "<div>\n",
       "<style scoped>\n",
       "    .dataframe tbody tr th:only-of-type {\n",
       "        vertical-align: middle;\n",
       "    }\n",
       "\n",
       "    .dataframe tbody tr th {\n",
       "        vertical-align: top;\n",
       "    }\n",
       "\n",
       "    .dataframe thead th {\n",
       "        text-align: right;\n",
       "    }\n",
       "</style>\n",
       "<table border=\"1\" class=\"dataframe\">\n",
       "  <thead>\n",
       "    <tr style=\"text-align: right;\">\n",
       "      <th></th>\n",
       "      <th>index</th>\n",
       "      <th>rank</th>\n",
       "      <th>predicted_rank</th>\n",
       "    </tr>\n",
       "  </thead>\n",
       "  <tbody>\n",
       "    <tr>\n",
       "      <th>0</th>\n",
       "      <td>691</td>\n",
       "      <td>17.0</td>\n",
       "      <td>4.0</td>\n",
       "    </tr>\n",
       "    <tr>\n",
       "      <th>1</th>\n",
       "      <td>743</td>\n",
       "      <td>3.0</td>\n",
       "      <td>20.0</td>\n",
       "    </tr>\n",
       "    <tr>\n",
       "      <th>2</th>\n",
       "      <td>457</td>\n",
       "      <td>13.0</td>\n",
       "      <td>5.0</td>\n",
       "    </tr>\n",
       "    <tr>\n",
       "      <th>3</th>\n",
       "      <td>561</td>\n",
       "      <td>9.0</td>\n",
       "      <td>23.0</td>\n",
       "    </tr>\n",
       "    <tr>\n",
       "      <th>4</th>\n",
       "      <td>405</td>\n",
       "      <td>28.0</td>\n",
       "      <td>30.0</td>\n",
       "    </tr>\n",
       "    <tr>\n",
       "      <th>...</th>\n",
       "      <td>...</td>\n",
       "      <td>...</td>\n",
       "      <td>...</td>\n",
       "    </tr>\n",
       "    <tr>\n",
       "      <th>205</th>\n",
       "      <td>645</td>\n",
       "      <td>3.0</td>\n",
       "      <td>28.0</td>\n",
       "    </tr>\n",
       "    <tr>\n",
       "      <th>206</th>\n",
       "      <td>502</td>\n",
       "      <td>21.0</td>\n",
       "      <td>26.0</td>\n",
       "    </tr>\n",
       "    <tr>\n",
       "      <th>207</th>\n",
       "      <td>424</td>\n",
       "      <td>1.0</td>\n",
       "      <td>4.0</td>\n",
       "    </tr>\n",
       "    <tr>\n",
       "      <th>208</th>\n",
       "      <td>593</td>\n",
       "      <td>20.0</td>\n",
       "      <td>23.0</td>\n",
       "    </tr>\n",
       "    <tr>\n",
       "      <th>209</th>\n",
       "      <td>749</td>\n",
       "      <td>6.0</td>\n",
       "      <td>7.0</td>\n",
       "    </tr>\n",
       "  </tbody>\n",
       "</table>\n",
       "<p>210 rows × 3 columns</p>\n",
       "</div>"
      ],
      "text/plain": [
       "     index  rank  predicted_rank\n",
       "0      691  17.0             4.0\n",
       "1      743   3.0            20.0\n",
       "2      457  13.0             5.0\n",
       "3      561   9.0            23.0\n",
       "4      405  28.0            30.0\n",
       "..     ...   ...             ...\n",
       "205    645   3.0            28.0\n",
       "206    502  21.0            26.0\n",
       "207    424   1.0             4.0\n",
       "208    593  20.0            23.0\n",
       "209    749   6.0             7.0\n",
       "\n",
       "[210 rows x 3 columns]"
      ]
     },
     "execution_count": 30,
     "metadata": {},
     "output_type": "execute_result"
    }
   ],
   "source": [
    "y_test"
   ]
  },
  {
   "cell_type": "code",
   "execution_count": 31,
   "metadata": {
    "collapsed": false,
    "jupyter": {
     "outputs_hidden": false
    },
    "pycharm": {
     "name": "#%%\n"
    }
   },
   "outputs": [],
   "source": [
    "y_test['correct'] = (y_test['predicted_rank'] == y_test['rank']) & (y_test['rank'] == 1)"
   ]
  },
  {
   "cell_type": "code",
   "execution_count": 32,
   "metadata": {
    "collapsed": false,
    "jupyter": {
     "outputs_hidden": false
    },
    "pycharm": {
     "name": "#%%\n"
    }
   },
   "outputs": [
    {
     "data": {
      "text/plain": [
       "np.False_"
      ]
     },
     "execution_count": 32,
     "metadata": {},
     "output_type": "execute_result"
    }
   ],
   "source": [
    "y_test['correct'].any()"
   ]
  },
  {
   "cell_type": "markdown",
   "metadata": {
    "collapsed": false,
    "jupyter": {
     "outputs_hidden": false
    },
    "pycharm": {
     "name": "#%% md\n"
    }
   },
   "source": [
    "The model was not able to predict the best stock for any of the days."
   ]
  },
  {
   "cell_type": "markdown",
   "metadata": {
    "collapsed": false,
    "jupyter": {
     "outputs_hidden": false
    },
    "pycharm": {
     "name": "#%% md\n"
    }
   },
   "source": [
    "#### Classification"
   ]
  },
  {
   "cell_type": "markdown",
   "metadata": {
    "collapsed": false,
    "jupyter": {
     "outputs_hidden": false
    },
    "pycharm": {
     "name": "#%% md\n"
    }
   },
   "source": [
    "Now, to try to classify the best stock for each day."
   ]
  },
  {
   "cell_type": "code",
   "execution_count": 33,
   "metadata": {
    "collapsed": false,
    "jupyter": {
     "outputs_hidden": false
    },
    "pycharm": {
     "name": "#%%\n"
    }
   },
   "outputs": [
    {
     "name": "stdout",
     "output_type": "stream",
     "text": [
      "              precision    recall  f1-score   support\n",
      "\n",
      "       False       0.97      1.00      0.98       203\n",
      "        True       0.00      0.00      0.00         7\n",
      "\n",
      "    accuracy                           0.97       210\n",
      "   macro avg       0.48      0.50      0.49       210\n",
      "weighted avg       0.93      0.97      0.95       210\n",
      "\n"
     ]
    },
    {
     "name": "stderr",
     "output_type": "stream",
     "text": [
      "C:\\Users\\jgalv\\AppData\\Local\\Programs\\Python\\Python311\\Lib\\site-packages\\sklearn\\metrics\\_classification.py:1531: UndefinedMetricWarning: Precision is ill-defined and being set to 0.0 in labels with no predicted samples. Use `zero_division` parameter to control this behavior.\n",
      "  _warn_prf(average, modifier, f\"{metric.capitalize()} is\", len(result))\n",
      "C:\\Users\\jgalv\\AppData\\Local\\Programs\\Python\\Python311\\Lib\\site-packages\\sklearn\\metrics\\_classification.py:1531: UndefinedMetricWarning: Precision is ill-defined and being set to 0.0 in labels with no predicted samples. Use `zero_division` parameter to control this behavior.\n",
      "  _warn_prf(average, modifier, f\"{metric.capitalize()} is\", len(result))\n",
      "C:\\Users\\jgalv\\AppData\\Local\\Programs\\Python\\Python311\\Lib\\site-packages\\sklearn\\metrics\\_classification.py:1531: UndefinedMetricWarning: Precision is ill-defined and being set to 0.0 in labels with no predicted samples. Use `zero_division` parameter to control this behavior.\n",
      "  _warn_prf(average, modifier, f\"{metric.capitalize()} is\", len(result))\n"
     ]
    }
   ],
   "source": [
    "features = ['day', 'month', 'percent_change_price', 'previous_weeks_volume', 'days_to_next_dividend', 'percent_return_next_dividend']\n",
    "label = 'best_stock'\n",
    "X_train = train[features]\n",
    "y_train = train[label]\n",
    "X_test = test[features]\n",
    "y_test = test[label]\n",
    "\n",
    "model = RandomForestClassifier()\n",
    "model.fit(X_train, y_train)\n",
    "y_pred = model.predict(X_test)\n",
    "print(classification_report(y_test, y_pred))\n"
   ]
  },
  {
   "cell_type": "markdown",
   "metadata": {
    "collapsed": false,
    "jupyter": {
     "outputs_hidden": false
    },
    "pycharm": {
     "name": "#%% md\n"
    }
   },
   "source": [
    "Considering the current class imbalance, we can try to use SMOTE to balance the classes."
   ]
  },
  {
   "cell_type": "code",
   "execution_count": 34,
   "metadata": {
    "collapsed": false,
    "jupyter": {
     "outputs_hidden": false
    },
    "pycharm": {
     "name": "#%%\n"
    }
   },
   "outputs": [],
   "source": [
    "smote = SMOTE()\n",
    "X_resampled, y_resampled = smote.fit_resample(X_train, y_train)\n",
    "\n",
    "X_train = X_resampled\n",
    "y_train = y_resampled"
   ]
  },
  {
   "cell_type": "code",
   "execution_count": 35,
   "metadata": {
    "collapsed": false,
    "jupyter": {
     "outputs_hidden": false
    },
    "pycharm": {
     "name": "#%%\n"
    }
   },
   "outputs": [
    {
     "name": "stdout",
     "output_type": "stream",
     "text": [
      "              precision    recall  f1-score   support\n",
      "\n",
      "       False       0.97      0.99      0.98       203\n",
      "        True       0.00      0.00      0.00         7\n",
      "\n",
      "    accuracy                           0.95       210\n",
      "   macro avg       0.48      0.49      0.49       210\n",
      "weighted avg       0.93      0.95      0.94       210\n",
      "\n"
     ]
    }
   ],
   "source": [
    "model = RandomForestClassifier()\n",
    "model.fit(X_train, y_train)\n",
    "y_pred = model.predict(X_test)\n",
    "print(classification_report(y_test, y_pred))\n"
   ]
  },
  {
   "cell_type": "markdown",
   "metadata": {
    "collapsed": false,
    "jupyter": {
     "outputs_hidden": false
    },
    "pycharm": {
     "name": "#%% md\n"
    }
   },
   "source": [
    "The model still performs poorly, uncapable of predicting the best stock for any of the days."
   ]
  },
  {
   "cell_type": "markdown",
   "metadata": {},
   "source": [
    "While Random Forests are good algorithms for a first approach, since they handle multiple features and handle nonlinearity without much tuning, they did not provide accurate predictions. This is most likely due to insufficient data and feature engineering."
   ]
  },
  {
   "cell_type": "markdown",
   "metadata": {},
   "source": [
    "## Conclusions\n",
    "-----"
   ]
  },
  {
   "cell_type": "markdown",
   "metadata": {},
   "source": [
    "The results obtained are highly inaccurate, not so much due to the choice of models but rather the training data. While the modelling phase could benefit from experimenting with different models or tuning, more data should be gathered and better prepared. Furthermore, this problem was approached as a ranking and classification problem. However, it might be better approached with time series analysis.\n",
    "\n",
    "Random forest models are generally robust to overfitting, handle high dimensional data and are robust to noise, while also being hable to capture non-linear relationships. However, they also tend to be computationally expensive, memory intensive black box models.\n",
    "\n",
    "In this solution, the Occam's razor principle was applied, starting out with simple but robust models. The fact that even these were completely unable to establish any relationship between the features and the targets suggests that it is necessary to:\n",
    "* Gather more data points: 750 data points are insufficient for a problem as complex as stock market value prediction;\n",
    "* Improve feature engineering: more features can be extracted to capture seasonality and even transform this problem into a time series analysis and forecasting;\n",
    "* Add more data sources: the stock market is influenced by several factors, such as the economy, the news and politics. Economic indicators can be relevant features, and sentiment analysis could be used to include data from social media or the news.\n",
    "\n",
    "Finally, the stock market is remarkably difficult to predict, with stock values being extremely volatile and most researchers struggling to develop models that can predict the best stock to invest in better than a random guess. Such task actually implies a much more extensive research and work.\n",
    "\n",
    "-----"
   ]
  },
  {
   "cell_type": "markdown",
   "metadata": {},
   "source": [
    "#### Feedback\n",
    "\n",
    "-----\n",
    "\n",
    "This is an extremely challenging but interesting task, which I am not sure is solvable in so little time. However, some interesting insights are drawn from the exploratory data analysis and modelling. Perhaps supplying more data would be a good idea, or making it clear if gathering more data would be acceptable to solve this challenge."
   ]
  }
 ],
 "metadata": {
  "kernelspec": {
   "display_name": "Python 3 (ipykernel)",
   "language": "python",
   "name": "python3"
  },
  "language_info": {
   "codemirror_mode": {
    "name": "ipython",
    "version": 3
   },
   "file_extension": ".py",
   "mimetype": "text/x-python",
   "name": "python",
   "nbconvert_exporter": "python",
   "pygments_lexer": "ipython3",
   "version": "3.11.9"
  }
 },
 "nbformat": 4,
 "nbformat_minor": 4
}
