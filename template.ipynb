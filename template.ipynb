{
 "cells": [
  {
   "cell_type": "markdown",
   "metadata": {},
   "source": [
    "# Xpand IT DS Challenge\n",
    "\n",
    "This notebook contains the template you should use to present your code, results and conclusions. You should keep the main structure intact to make it easier to evaluate and compare in the end."
   ]
  },
  {
   "cell_type": "markdown",
   "metadata": {},
   "source": [
    "## Dataset\n",
    "You can find the dataset in the data folder of the repository. The folder contains two files:\n",
    "* dow_jones_index.data - dataset data\n",
    "* dow_jones_index.names - dataset information and details"
   ]
  },
  {
   "cell_type": "markdown",
   "metadata": {},
   "source": [
    "## Business Analysis\n",
    "Here you should conduct a brief analysis of what is Dow Jones Index. You can enumerate the main topics to take into account based on the dataset provided as well as your understandings of the variables.\n",
    "\n",
    "\n",
    "-----\n",
    "*Add here your business analysis conclusions (max. 200 words)*\n",
    "\n",
    "-----\n",
    "\n",
    "The Dow Jones [Industrial] Index (DJIA) is a stock market index founded in February 16, 1885, as DJA, and renamed to DJIA in May 26, 1896. Nowadays, the index comprises 30 blue chip companies listed on the New York stock exchange and the Nasdaq. These companies operate on industries ranging from information technology or financial services to retailing or food industry, to name a few. The largest index weight is held by UnitedHealth Group, at 8.81%, followed closely by Microsoft and Goldman Sachs at 6.83% and 6.54%, respectively. It also includes other internationally recognised companies, such as Apple, McDonald's and Visa, for instance.\n",
    "\n",
    "Unlike other common indexes, the Dow Jones Index is price-weighted, as opposed to being weighted by market capitalisation. As such, stocks with higher share prices have a greater influence. The DJIA is calculated by dividing the sum of the prices of all component stocks, $\\sum p$, by the Dow Divisor, $d$. As of February 2024, the Dow Divisor was set at 0.15265312230608.\n",
    "\n",
    "The Dow Jones Index is reevaluated on a regular basis, replacing companies that no longer meet the eligibility criteria.\n",
    "\n"
   ]
  },
  {
   "cell_type": "markdown",
   "metadata": {},
   "source": [
    "## Data Understanding\n",
    "During the data understanding phase, you should focus on understanding what each variable represents, compute statistics and visualizations. Some questions that may guide your work follow:\n",
    "* Feature engineering: should new features be created from the existing ones?\n",
    "* What will be your features and your label?\n",
    "* Is the dataset ready for the prediction task? (ex: missing values)\n",
    "* How will the data be split into train and test sets?\n",
    "\n",
    "-----"
   ]
  },
  {
   "cell_type": "code",
   "execution_count": 3,
   "metadata": {
    "ExecuteTime": {
     "end_time": "2024-09-01T15:19:05.097075300Z",
     "start_time": "2024-09-01T15:19:03.305176500Z"
    }
   },
   "outputs": [],
   "source": [
    "#add here your imports\n",
    "import pandas as pd"
   ]
  },
  {
   "cell_type": "code",
   "execution_count": null,
   "metadata": {},
   "outputs": [],
   "source": [
    "#add here your data understanting code"
   ]
  },
  {
   "cell_type": "markdown",
   "metadata": {},
   "source": [
    "-----\n",
    "*Add here your data understanding findings and conclusions (max. 200 words)*\n",
    "\n",
    "-----"
   ]
  },
  {
   "cell_type": "markdown",
   "metadata": {},
   "source": [
    "## Modelling\n",
    "In this phase, your main goal is to develop and describe your approach to the solution of the problem. Some guidelines to help you:\n",
    "* What metrics will you use to evaluate your solutions?\n",
    "* What are some algorithms that can lead to good results? And why?\n",
    "* Describe in detail your thought process during the development of your solution.\n",
    "* Present your results.\n",
    "\n",
    "\n",
    "-----\n"
   ]
  },
  {
   "cell_type": "code",
   "execution_count": null,
   "metadata": {},
   "outputs": [],
   "source": [
    "#add here your modelling code"
   ]
  },
  {
   "cell_type": "markdown",
   "metadata": {},
   "source": [
    "-----\n",
    "*Add here your modelling results and conclusions (max. 200 words)*\n",
    "\n",
    "-----"
   ]
  },
  {
   "cell_type": "markdown",
   "metadata": {},
   "source": [
    "## Conclusions\n",
    "In the conclusions, you should enumerate the results you got after completing the challenge.\n",
    "* How good do you consider your results? \n",
    "* What are some factors that would contribute to get better results?\n",
    "* What are some advantages and disadvantages of your solution?\n",
    "* What can be done as future work to improve your results?\n"
   ]
  },
  {
   "cell_type": "markdown",
   "metadata": {},
   "source": [
    "-----\n",
    "*Add here your final conclusions (max. 400 words)*\n",
    "\n",
    "-----"
   ]
  },
  {
   "cell_type": "markdown",
   "metadata": {},
   "source": [
    "#### Feedback"
   ]
  },
  {
   "cell_type": "markdown",
   "metadata": {},
   "source": [
    "-----\n",
    "*Add here your thoughts and feedback regarding this challenge.*\n",
    "\n",
    "-----"
   ]
  },
  {
   "cell_type": "markdown",
   "metadata": {},
   "source": [
    "To submit your solution you should e-mail us this notebook in response to the e-mail you initially received with the challenge."
   ]
  }
 ],
 "metadata": {
  "kernelspec": {
   "display_name": "Python 3",
   "language": "python",
   "name": "python3"
  },
  "language_info": {
   "codemirror_mode": {
    "name": "ipython",
    "version": 3
   },
   "file_extension": ".py",
   "mimetype": "text/x-python",
   "name": "python",
   "nbconvert_exporter": "python",
   "pygments_lexer": "ipython3",
   "version": "3.7.6"
  }
 },
 "nbformat": 4,
 "nbformat_minor": 4
}
